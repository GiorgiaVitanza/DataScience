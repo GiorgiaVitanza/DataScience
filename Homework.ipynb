{
 "cells": [
  {
   "cell_type": "markdown",
   "id": "af6c1d7c-2942-45db-a65c-c318810655d5",
   "metadata": {},
   "source": [
    "Exercise: Create a dataframe of at least 1000 rows about an hypothetical list of employees of your company, extract all employees in the IT department and a Salary greater than 55000.\n",
    "\n",
    "Exercise: Create a column to split the data in Low, Medium, High fare prices and calculate the average Age per each section. Fill the Age set to nan and calculate the average age again, how did it change? How can you fill the age so that the average does not change?"
   ]
  },
  {
   "cell_type": "code",
   "execution_count": 12,
   "id": "3288ee28-cf96-412a-a611-e703e6e6f1a4",
   "metadata": {},
   "outputs": [],
   "source": [
    "import random\n",
    "import string\n",
    "\n",
    "#hypothetical list of employees of your company\n",
    "names_list = []\n",
    "for el in range(1000):\n",
    "    name = ''.join(random.choice(string.ascii_lowercase) for _ in range(5))\n",
    "    surname = ''.join(random.choice(string.ascii_lowercase) for _ in range(5))\n",
    "    names_list.append(name.capitalize() +' ' + surname.capitalize())"
   ]
  },
  {
   "cell_type": "code",
   "execution_count": 20,
   "id": "2c4dffcc-2c81-456b-b207-47b0ed69387e",
   "metadata": {},
   "outputs": [
    {
     "data": {
      "text/html": [
       "<div>\n",
       "<style scoped>\n",
       "    .dataframe tbody tr th:only-of-type {\n",
       "        vertical-align: middle;\n",
       "    }\n",
       "\n",
       "    .dataframe tbody tr th {\n",
       "        vertical-align: top;\n",
       "    }\n",
       "\n",
       "    .dataframe thead th {\n",
       "        text-align: right;\n",
       "    }\n",
       "</style>\n",
       "<table border=\"1\" class=\"dataframe\">\n",
       "  <thead>\n",
       "    <tr style=\"text-align: right;\">\n",
       "      <th></th>\n",
       "      <th>Employees</th>\n",
       "      <th>Departments</th>\n",
       "      <th>Salary</th>\n",
       "    </tr>\n",
       "  </thead>\n",
       "  <tbody>\n",
       "    <tr>\n",
       "      <th>463</th>\n",
       "      <td>Drhcu Jwxsd</td>\n",
       "      <td>IT</td>\n",
       "      <td>57245</td>\n",
       "    </tr>\n",
       "  </tbody>\n",
       "</table>\n",
       "</div>"
      ],
      "text/plain": [
       "       Employees Departments  Salary\n",
       "463  Drhcu Jwxsd          IT   57245"
      ]
     },
     "execution_count": 20,
     "metadata": {},
     "output_type": "execute_result"
    }
   ],
   "source": [
    "#Create a dataframe \n",
    "import pandas as pd\n",
    "\n",
    "df = pd.DataFrame({\"Employees\": names_list})\n",
    "\n",
    "#add the departments and Salary columns:\n",
    "departments_list = []\n",
    "salary_list = []\n",
    "for idx in range(1000):\n",
    "    departments_list.append(''.join(random.choice(string.ascii_uppercase) for _ in range(2)))\n",
    "    salary_list.append(random.randint(20000,80000))\n",
    "                            \n",
    "df = pd.DataFrame({\"Employees\": names_list, \"Departments\": departments_list, \"Salary\": salary_list})\n",
    "#extract all employees in the IT department and a Salary greater than 55000.\n",
    "condition = (df['Departments'] == 'IT') & (df['Salary'] > 55000)\n",
    "df[condition]\n"
   ]
  },
  {
   "cell_type": "code",
   "execution_count": 86,
   "id": "815abed6-9bce-4409-a20d-32597ae23f72",
   "metadata": {},
   "outputs": [],
   "source": [
    "fare_list = []\n",
    "ages = []\n",
    "for idx in range(1000):\n",
    "    if idx < random.randint(0,400):\n",
    "        fare_list.append('Low')\n",
    "        ages.append(random.randint(18,38))\n",
    "    elif idx < random.randint(500,800):\n",
    "        fare_list.append('Medium')\n",
    "        ages.append(random.randint(48,68))\n",
    "    else:\n",
    "        fare_list.append('High')\n",
    "        ages.append(float('nan'))\n",
    "        \n",
    "        \n",
    "df['fare prices'] = fare_list\n",
    "df['Age'] = ages\n",
    "\n",
    "\n",
    "# Group by age bins\n",
    "# Create age bins\n",
    "#bins = [18, 30, 45, 67]\n",
    "#labels = ['High', 'Low', 'Medium']\n",
    "#df['fare prices'] = pd.cut(df['Age'], bins=bins, labels=labels, right=False)"
   ]
  },
  {
   "cell_type": "code",
   "execution_count": 87,
   "id": "b34f4242-9cd4-4047-bc7d-574a95fa90ab",
   "metadata": {},
   "outputs": [
    {
     "name": "stdout",
     "output_type": "stream",
     "text": [
      "<class 'pandas.core.frame.DataFrame'>\n",
      "RangeIndex: 1000 entries, 0 to 999\n",
      "Data columns (total 5 columns):\n",
      " #   Column       Non-Null Count  Dtype  \n",
      "---  ------       --------------  -----  \n",
      " 0   Employees    1000 non-null   object \n",
      " 1   Departments  1000 non-null   object \n",
      " 2   Salary       1000 non-null   int64  \n",
      " 3   fare prices  1000 non-null   object \n",
      " 4   Age          645 non-null    float64\n",
      "dtypes: float64(1), int64(1), object(3)\n",
      "memory usage: 39.2+ KB\n"
     ]
    }
   ],
   "source": [
    "df.info()"
   ]
  },
  {
   "cell_type": "code",
   "execution_count": 88,
   "id": "a56f2be5-0d0f-4d50-9fbd-a6fd84d4abec",
   "metadata": {},
   "outputs": [
    {
     "data": {
      "text/plain": [
       "fare prices\n",
       "High            NaN\n",
       "Low       28.512953\n",
       "Medium    58.150442\n",
       "Name: Age, dtype: float64"
      ]
     },
     "execution_count": 88,
     "metadata": {},
     "output_type": "execute_result"
    }
   ],
   "source": [
    "# calculate the average Age per each section\n",
    "df.groupby('fare prices')['Age'].mean()"
   ]
  },
  {
   "cell_type": "code",
   "execution_count": 89,
   "id": "4258c2b1-c45c-4daf-9019-b0d64b7e45a8",
   "metadata": {},
   "outputs": [
    {
     "name": "stdout",
     "output_type": "stream",
     "text": [
      "<class 'pandas.core.frame.DataFrame'>\n",
      "RangeIndex: 1000 entries, 0 to 999\n",
      "Data columns (total 5 columns):\n",
      " #   Column       Non-Null Count  Dtype  \n",
      "---  ------       --------------  -----  \n",
      " 0   Employees    1000 non-null   object \n",
      " 1   Departments  1000 non-null   object \n",
      " 2   Salary       1000 non-null   int64  \n",
      " 3   fare prices  1000 non-null   object \n",
      " 4   Age          1000 non-null   float64\n",
      "dtypes: float64(1), int64(1), object(3)\n",
      "memory usage: 39.2+ KB\n"
     ]
    },
    {
     "data": {
      "text/plain": [
       "fare prices\n",
       "High      49.282171\n",
       "Low       28.512953\n",
       "Medium    58.150442\n",
       "Name: Age, dtype: float64"
      ]
     },
     "execution_count": 89,
     "metadata": {},
     "output_type": "execute_result"
    }
   ],
   "source": [
    "#Fill the Age set to nan and calculate the average age again, how did it change? \n",
    "df['Age'] = df['Age'].fillna(df['Age'].mean())\n",
    "df.info()\n",
    "df.groupby('fare prices')['Age'].mean()"
   ]
  },
  {
   "cell_type": "markdown",
   "id": "f9fa139d-14ba-4265-8832-cd0548fa208f",
   "metadata": {},
   "source": [
    "I filled the nan values replacing it with the mean value of the column, in order to not modify the mean value of the whole column.\n",
    "The values in which nan values are not present, don't change after the fillna() procedure."
   ]
  },
  {
   "cell_type": "code",
   "execution_count": null,
   "id": "84338aa1-9daa-40ad-a5d8-24fab895a619",
   "metadata": {},
   "outputs": [],
   "source": []
  }
 ],
 "metadata": {
  "kernelspec": {
   "display_name": "Python 3 (ipykernel)",
   "language": "python",
   "name": "python3"
  },
  "language_info": {
   "codemirror_mode": {
    "name": "ipython",
    "version": 3
   },
   "file_extension": ".py",
   "mimetype": "text/x-python",
   "name": "python",
   "nbconvert_exporter": "python",
   "pygments_lexer": "ipython3",
   "version": "3.13.2"
  }
 },
 "nbformat": 4,
 "nbformat_minor": 5
}
