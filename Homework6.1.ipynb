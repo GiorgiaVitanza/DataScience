{
 "cells": [
  {
   "cell_type": "code",
   "execution_count": 2,
   "id": "0ee31c0d-8fbf-474b-9542-775e965a12c9",
   "metadata": {},
   "outputs": [],
   "source": [
    "%load_ext sql\n",
    "%config SqlMagic.style = '_DEPRECATED_DEFAULT'"
   ]
  },
  {
   "cell_type": "code",
   "execution_count": 5,
   "id": "4584b42e-9474-4982-9b55-61004ce4cd59",
   "metadata": {},
   "outputs": [],
   "source": [
    "%sql sqlite:///my_database.db"
   ]
  },
  {
   "cell_type": "code",
   "execution_count": 6,
   "id": "9606c96a-f505-4224-b4ed-3a171221a311",
   "metadata": {
    "scrolled": true
   },
   "outputs": [
    {
     "name": "stdout",
     "output_type": "stream",
     "text": [
      " * sqlite:///my_database.db\n",
      "Done.\n"
     ]
    },
    {
     "data": {
      "text/html": [
       "<table>\n",
       "    <thead>\n",
       "        <tr>\n",
       "            <th>id</th>\n",
       "            <th>first_name</th>\n",
       "            <th>last_name</th>\n",
       "            <th>department_id</th>\n",
       "            <th>hire_date</th>\n",
       "            <th>salary</th>\n",
       "            <th>bonus</th>\n",
       "            <th>job_title</th>\n",
       "            <th>manager_id</th>\n",
       "            <th>performance_rating</th>\n",
       "            <th>email</th>\n",
       "            <th>phone_number</th>\n",
       "        </tr>\n",
       "    </thead>\n",
       "    <tbody>\n",
       "        <tr>\n",
       "            <td>1</td>\n",
       "            <td>Alice</td>\n",
       "            <td>Smith</td>\n",
       "            <td>1</td>\n",
       "            <td>2010-06-01</td>\n",
       "            <td>120000.0</td>\n",
       "            <td>10000.0</td>\n",
       "            <td>CTO</td>\n",
       "            <td>None</td>\n",
       "            <td>5</td>\n",
       "            <td>alice.smith@example.com</td>\n",
       "            <td>555-0100</td>\n",
       "        </tr>\n",
       "        <tr>\n",
       "            <td>2</td>\n",
       "            <td>Bob</td>\n",
       "            <td>Johnson</td>\n",
       "            <td>1</td>\n",
       "            <td>2012-09-15</td>\n",
       "            <td>90000.0</td>\n",
       "            <td>5000.0</td>\n",
       "            <td>Senior Engineer</td>\n",
       "            <td>1</td>\n",
       "            <td>4</td>\n",
       "            <td>bob.johnson@example.com</td>\n",
       "            <td>555-0101</td>\n",
       "        </tr>\n",
       "        <tr>\n",
       "            <td>3</td>\n",
       "            <td>Carol</td>\n",
       "            <td>Williams</td>\n",
       "            <td>1</td>\n",
       "            <td>2015-03-20</td>\n",
       "            <td>80000.0</td>\n",
       "            <td>None</td>\n",
       "            <td>Engineer</td>\n",
       "            <td>2</td>\n",
       "            <td>3</td>\n",
       "            <td>carol.williams@example.com</td>\n",
       "            <td>555-0102</td>\n",
       "        </tr>\n",
       "        <tr>\n",
       "            <td>4</td>\n",
       "            <td>David</td>\n",
       "            <td>Jones</td>\n",
       "            <td>2</td>\n",
       "            <td>2011-11-11</td>\n",
       "            <td>95000.0</td>\n",
       "            <td>7000.0</td>\n",
       "            <td>Sales Manager</td>\n",
       "            <td>None</td>\n",
       "            <td>4</td>\n",
       "            <td>david.jones@example.com</td>\n",
       "            <td>555-0103</td>\n",
       "        </tr>\n",
       "        <tr>\n",
       "            <td>5</td>\n",
       "            <td>Eva</td>\n",
       "            <td>Brown</td>\n",
       "            <td>2</td>\n",
       "            <td>2016-05-22</td>\n",
       "            <td>70000.0</td>\n",
       "            <td>3000.0</td>\n",
       "            <td>Sales Representative</td>\n",
       "            <td>4</td>\n",
       "            <td>3</td>\n",
       "            <td>eva.brown@example.com</td>\n",
       "            <td>555-0104</td>\n",
       "        </tr>\n",
       "        <tr>\n",
       "            <td>6</td>\n",
       "            <td>Frank</td>\n",
       "            <td>Davis</td>\n",
       "            <td>2</td>\n",
       "            <td>2018-07-01</td>\n",
       "            <td>68000.0</td>\n",
       "            <td>None</td>\n",
       "            <td>Sales Representative</td>\n",
       "            <td>4</td>\n",
       "            <td>2</td>\n",
       "            <td>frank.davis@example.com</td>\n",
       "            <td>555-0105</td>\n",
       "        </tr>\n",
       "        <tr>\n",
       "            <td>7</td>\n",
       "            <td>Grace</td>\n",
       "            <td>Miller</td>\n",
       "            <td>3</td>\n",
       "            <td>2013-02-28</td>\n",
       "            <td>75000.0</td>\n",
       "            <td>4000.0</td>\n",
       "            <td>HR Specialist</td>\n",
       "            <td>None</td>\n",
       "            <td>4</td>\n",
       "            <td>grace.miller@example.com</td>\n",
       "            <td>555-0106</td>\n",
       "        </tr>\n",
       "        <tr>\n",
       "            <td>8</td>\n",
       "            <td>Henry</td>\n",
       "            <td>Wilson</td>\n",
       "            <td>3</td>\n",
       "            <td>2019-10-10</td>\n",
       "            <td>60000.0</td>\n",
       "            <td>2000.0</td>\n",
       "            <td>HR Assistant</td>\n",
       "            <td>7</td>\n",
       "            <td>3</td>\n",
       "            <td>henry.wilson@example.com</td>\n",
       "            <td>555-0107</td>\n",
       "        </tr>\n",
       "        <tr>\n",
       "            <td>9</td>\n",
       "            <td>Ivy</td>\n",
       "            <td>Moore</td>\n",
       "            <td>4</td>\n",
       "            <td>2014-08-19</td>\n",
       "            <td>85000.0</td>\n",
       "            <td>5000.0</td>\n",
       "            <td>Marketing Manager</td>\n",
       "            <td>None</td>\n",
       "            <td>4</td>\n",
       "            <td>ivy.moore@example.com</td>\n",
       "            <td>555-0108</td>\n",
       "        </tr>\n",
       "        <tr>\n",
       "            <td>10</td>\n",
       "            <td>Sam</td>\n",
       "            <td>White</td>\n",
       "            <td>None</td>\n",
       "            <td>2023-01-01</td>\n",
       "            <td>50000.0</td>\n",
       "            <td>None</td>\n",
       "            <td>Intern</td>\n",
       "            <td>3</td>\n",
       "            <td>None</td>\n",
       "            <td>None</td>\n",
       "            <td>None</td>\n",
       "        </tr>\n",
       "        <tr>\n",
       "            <td>11</td>\n",
       "            <td>Jack</td>\n",
       "            <td>Taylor</td>\n",
       "            <td>4</td>\n",
       "            <td>2020-01-15</td>\n",
       "            <td>65000.0</td>\n",
       "            <td>None</td>\n",
       "            <td>Marketing Specialist</td>\n",
       "            <td>9</td>\n",
       "            <td>3</td>\n",
       "            <td>jack.taylor@example.com</td>\n",
       "            <td>555-0109</td>\n",
       "        </tr>\n",
       "        <tr>\n",
       "            <td>12</td>\n",
       "            <td>Kathy</td>\n",
       "            <td>Anderson</td>\n",
       "            <td>5</td>\n",
       "            <td>2017-04-03</td>\n",
       "            <td>78000.0</td>\n",
       "            <td>4500.0</td>\n",
       "            <td>Finance Analyst</td>\n",
       "            <td>None</td>\n",
       "            <td>4</td>\n",
       "            <td>kathy.anderson@example.com</td>\n",
       "            <td>555-0110</td>\n",
       "        </tr>\n",
       "        <tr>\n",
       "            <td>13</td>\n",
       "            <td>Leo</td>\n",
       "            <td>Thomas</td>\n",
       "            <td>5</td>\n",
       "            <td>2021-12-05</td>\n",
       "            <td>55000.0</td>\n",
       "            <td>None</td>\n",
       "            <td>Junior Finance Analyst</td>\n",
       "            <td>11</td>\n",
       "            <td>3</td>\n",
       "            <td>leo.thomas@example.com</td>\n",
       "            <td>555-0111</td>\n",
       "        </tr>\n",
       "    </tbody>\n",
       "</table>"
      ],
      "text/plain": [
       "[(1, 'Alice', 'Smith', 1, '2010-06-01', 120000.0, 10000.0, 'CTO', None, 5, 'alice.smith@example.com', '555-0100'),\n",
       " (2, 'Bob', 'Johnson', 1, '2012-09-15', 90000.0, 5000.0, 'Senior Engineer', 1, 4, 'bob.johnson@example.com', '555-0101'),\n",
       " (3, 'Carol', 'Williams', 1, '2015-03-20', 80000.0, None, 'Engineer', 2, 3, 'carol.williams@example.com', '555-0102'),\n",
       " (4, 'David', 'Jones', 2, '2011-11-11', 95000.0, 7000.0, 'Sales Manager', None, 4, 'david.jones@example.com', '555-0103'),\n",
       " (5, 'Eva', 'Brown', 2, '2016-05-22', 70000.0, 3000.0, 'Sales Representative', 4, 3, 'eva.brown@example.com', '555-0104'),\n",
       " (6, 'Frank', 'Davis', 2, '2018-07-01', 68000.0, None, 'Sales Representative', 4, 2, 'frank.davis@example.com', '555-0105'),\n",
       " (7, 'Grace', 'Miller', 3, '2013-02-28', 75000.0, 4000.0, 'HR Specialist', None, 4, 'grace.miller@example.com', '555-0106'),\n",
       " (8, 'Henry', 'Wilson', 3, '2019-10-10', 60000.0, 2000.0, 'HR Assistant', 7, 3, 'henry.wilson@example.com', '555-0107'),\n",
       " (9, 'Ivy', 'Moore', 4, '2014-08-19', 85000.0, 5000.0, 'Marketing Manager', None, 4, 'ivy.moore@example.com', '555-0108'),\n",
       " (10, 'Sam', 'White', None, '2023-01-01', 50000.0, None, 'Intern', 3, None, None, None),\n",
       " (11, 'Jack', 'Taylor', 4, '2020-01-15', 65000.0, None, 'Marketing Specialist', 9, 3, 'jack.taylor@example.com', '555-0109'),\n",
       " (12, 'Kathy', 'Anderson', 5, '2017-04-03', 78000.0, 4500.0, 'Finance Analyst', None, 4, 'kathy.anderson@example.com', '555-0110'),\n",
       " (13, 'Leo', 'Thomas', 5, '2021-12-05', 55000.0, None, 'Junior Finance Analyst', 11, 3, 'leo.thomas@example.com', '555-0111')]"
      ]
     },
     "execution_count": 6,
     "metadata": {},
     "output_type": "execute_result"
    }
   ],
   "source": [
    "%%sql\n",
    "SELECT * \n",
    "FROM employees"
   ]
  },
  {
   "cell_type": "markdown",
   "id": "f8070531-917a-4b06-8862-30caf38b4d8b",
   "metadata": {},
   "source": [
    "Write a query to find first name and last name of employees whose first name:\n",
    "has 3 letters\n",
    "ends in 'a'"
   ]
  },
  {
   "cell_type": "code",
   "execution_count": 10,
   "id": "f11b2e81-67fd-4d63-ad70-46dd1ae03df2",
   "metadata": {},
   "outputs": [
    {
     "name": "stdout",
     "output_type": "stream",
     "text": [
      " * sqlite:///my_database.db\n",
      "Done.\n"
     ]
    },
    {
     "data": {
      "text/html": [
       "<table>\n",
       "    <thead>\n",
       "        <tr>\n",
       "            <th>first_name</th>\n",
       "            <th>last_name</th>\n",
       "        </tr>\n",
       "    </thead>\n",
       "    <tbody>\n",
       "        <tr>\n",
       "            <td>Bob</td>\n",
       "            <td>Johnson</td>\n",
       "        </tr>\n",
       "        <tr>\n",
       "            <td>Eva</td>\n",
       "            <td>Brown</td>\n",
       "        </tr>\n",
       "        <tr>\n",
       "            <td>Ivy</td>\n",
       "            <td>Moore</td>\n",
       "        </tr>\n",
       "        <tr>\n",
       "            <td>Sam</td>\n",
       "            <td>White</td>\n",
       "        </tr>\n",
       "        <tr>\n",
       "            <td>Leo</td>\n",
       "            <td>Thomas</td>\n",
       "        </tr>\n",
       "    </tbody>\n",
       "</table>"
      ],
      "text/plain": [
       "[('Bob', 'Johnson'),\n",
       " ('Eva', 'Brown'),\n",
       " ('Ivy', 'Moore'),\n",
       " ('Sam', 'White'),\n",
       " ('Leo', 'Thomas')]"
      ]
     },
     "execution_count": 10,
     "metadata": {},
     "output_type": "execute_result"
    }
   ],
   "source": [
    "%%sql\n",
    "SELECT first_name,\tlast_name\n",
    "FROM employees\n",
    "WHERE LENGTH(first_name) = 3;"
   ]
  },
  {
   "cell_type": "code",
   "execution_count": 11,
   "id": "1325001e-ccdc-49d9-bbb2-21e98cda0a1b",
   "metadata": {},
   "outputs": [
    {
     "name": "stdout",
     "output_type": "stream",
     "text": [
      " * sqlite:///my_database.db\n",
      "Done.\n"
     ]
    },
    {
     "data": {
      "text/html": [
       "<table>\n",
       "    <thead>\n",
       "        <tr>\n",
       "            <th>first_name</th>\n",
       "            <th>last_name</th>\n",
       "        </tr>\n",
       "    </thead>\n",
       "    <tbody>\n",
       "        <tr>\n",
       "            <td>Eva</td>\n",
       "            <td>Brown</td>\n",
       "        </tr>\n",
       "    </tbody>\n",
       "</table>"
      ],
      "text/plain": [
       "[('Eva', 'Brown')]"
      ]
     },
     "execution_count": 11,
     "metadata": {},
     "output_type": "execute_result"
    }
   ],
   "source": [
    "%%sql\n",
    "SELECT first_name,\tlast_name\n",
    "FROM employees\n",
    "WHERE first_name LIKE '%a';\n"
   ]
  },
  {
   "cell_type": "markdown",
   "id": "ff9fe86b-575c-4f44-b559-b74e06ca1e96",
   "metadata": {},
   "source": [
    "2) Write a query to find, for each department:\n",
    "- the name of the department\n",
    "- the number of employees\n",
    "- the number of employees who received a bonus\n",
    "- the total amount of bonuses disbursed"
   ]
  },
  {
   "cell_type": "code",
   "execution_count": 12,
   "id": "5618099a-32fa-4a03-8efa-9f1c25bb7ddd",
   "metadata": {},
   "outputs": [
    {
     "name": "stdout",
     "output_type": "stream",
     "text": [
      " * sqlite:///my_database.db\n",
      "Done.\n"
     ]
    },
    {
     "data": {
      "text/html": [
       "<table>\n",
       "    <thead>\n",
       "        <tr>\n",
       "            <th>id</th>\n",
       "            <th>name</th>\n",
       "            <th>location</th>\n",
       "        </tr>\n",
       "    </thead>\n",
       "    <tbody>\n",
       "        <tr>\n",
       "            <td>1</td>\n",
       "            <td>Engineering</td>\n",
       "            <td>New York</td>\n",
       "        </tr>\n",
       "        <tr>\n",
       "            <td>2</td>\n",
       "            <td>Sales</td>\n",
       "            <td>Los Angeles</td>\n",
       "        </tr>\n",
       "        <tr>\n",
       "            <td>3</td>\n",
       "            <td>HR</td>\n",
       "            <td>Chicago</td>\n",
       "        </tr>\n",
       "        <tr>\n",
       "            <td>4</td>\n",
       "            <td>Marketing</td>\n",
       "            <td>San Francisco</td>\n",
       "        </tr>\n",
       "        <tr>\n",
       "            <td>5</td>\n",
       "            <td>Finance</td>\n",
       "            <td>Boston</td>\n",
       "        </tr>\n",
       "    </tbody>\n",
       "</table>"
      ],
      "text/plain": [
       "[(1, 'Engineering', 'New York'),\n",
       " (2, 'Sales', 'Los Angeles'),\n",
       " (3, 'HR', 'Chicago'),\n",
       " (4, 'Marketing', 'San Francisco'),\n",
       " (5, 'Finance', 'Boston')]"
      ]
     },
     "execution_count": 12,
     "metadata": {},
     "output_type": "execute_result"
    }
   ],
   "source": [
    "%%sql\n",
    "SELECT *\n",
    "FROM departments"
   ]
  },
  {
   "cell_type": "code",
   "execution_count": 16,
   "id": "49b66ddc-da28-41bc-aa8e-a160d4df12e3",
   "metadata": {},
   "outputs": [
    {
     "name": "stdout",
     "output_type": "stream",
     "text": [
      " * sqlite:///my_database.db\n",
      "Done.\n"
     ]
    },
    {
     "data": {
      "text/html": [
       "<table>\n",
       "    <thead>\n",
       "        <tr>\n",
       "            <th>name</th>\n",
       "        </tr>\n",
       "    </thead>\n",
       "    <tbody>\n",
       "        <tr>\n",
       "            <td>Engineering</td>\n",
       "        </tr>\n",
       "        <tr>\n",
       "            <td>Sales</td>\n",
       "        </tr>\n",
       "        <tr>\n",
       "            <td>HR</td>\n",
       "        </tr>\n",
       "        <tr>\n",
       "            <td>Marketing</td>\n",
       "        </tr>\n",
       "        <tr>\n",
       "            <td>Finance</td>\n",
       "        </tr>\n",
       "    </tbody>\n",
       "</table>"
      ],
      "text/plain": [
       "[('Engineering',), ('Sales',), ('HR',), ('Marketing',), ('Finance',)]"
      ]
     },
     "execution_count": 16,
     "metadata": {},
     "output_type": "execute_result"
    }
   ],
   "source": [
    "%%sql\n",
    "SELECT name \n",
    "FROM departments"
   ]
  },
  {
   "cell_type": "code",
   "execution_count": 46,
   "id": "3b582b5f-9840-4381-8a80-60efbb68435d",
   "metadata": {},
   "outputs": [
    {
     "name": "stdout",
     "output_type": "stream",
     "text": [
      " * sqlite:///my_database.db\n",
      "Done.\n"
     ]
    },
    {
     "data": {
      "text/html": [
       "<table>\n",
       "    <thead>\n",
       "        <tr>\n",
       "            <th>department_id</th>\n",
       "            <th>num_employees</th>\n",
       "        </tr>\n",
       "    </thead>\n",
       "    <tbody>\n",
       "        <tr>\n",
       "            <td>1</td>\n",
       "            <td>3</td>\n",
       "        </tr>\n",
       "        <tr>\n",
       "            <td>2</td>\n",
       "            <td>3</td>\n",
       "        </tr>\n",
       "        <tr>\n",
       "            <td>3</td>\n",
       "            <td>2</td>\n",
       "        </tr>\n",
       "        <tr>\n",
       "            <td>4</td>\n",
       "            <td>2</td>\n",
       "        </tr>\n",
       "        <tr>\n",
       "            <td>5</td>\n",
       "            <td>2</td>\n",
       "        </tr>\n",
       "    </tbody>\n",
       "</table>"
      ],
      "text/plain": [
       "[(1, 3), (2, 3), (3, 2), (4, 2), (5, 2)]"
      ]
     },
     "execution_count": 46,
     "metadata": {},
     "output_type": "execute_result"
    }
   ],
   "source": [
    "%%sql\n",
    "SELECT department_id, COUNT(department_id) AS num_employees\n",
    "FROM employees\n",
    "WHERE department_id IN (1,2,3,4,5)\n",
    "GROUP BY department_id\n",
    "    \n"
   ]
  },
  {
   "cell_type": "code",
   "execution_count": 55,
   "id": "c78fed14-abf6-4b9a-a0b1-412699db5f30",
   "metadata": {},
   "outputs": [
    {
     "name": "stdout",
     "output_type": "stream",
     "text": [
      " * sqlite:///my_database.db\n",
      "Done.\n"
     ]
    },
    {
     "data": {
      "text/html": [
       "<table>\n",
       "    <thead>\n",
       "        <tr>\n",
       "            <th>department_id</th>\n",
       "            <th>num_bonus</th>\n",
       "        </tr>\n",
       "    </thead>\n",
       "    <tbody>\n",
       "        <tr>\n",
       "            <td>1</td>\n",
       "            <td>2</td>\n",
       "        </tr>\n",
       "        <tr>\n",
       "            <td>2</td>\n",
       "            <td>2</td>\n",
       "        </tr>\n",
       "        <tr>\n",
       "            <td>3</td>\n",
       "            <td>2</td>\n",
       "        </tr>\n",
       "        <tr>\n",
       "            <td>4</td>\n",
       "            <td>1</td>\n",
       "        </tr>\n",
       "        <tr>\n",
       "            <td>5</td>\n",
       "            <td>1</td>\n",
       "        </tr>\n",
       "    </tbody>\n",
       "</table>"
      ],
      "text/plain": [
       "[(1, 2), (2, 2), (3, 2), (4, 1), (5, 1)]"
      ]
     },
     "execution_count": 55,
     "metadata": {},
     "output_type": "execute_result"
    }
   ],
   "source": [
    "%%sql\n",
    "SELECT department_id, COUNT(bonus) AS num_bonus\n",
    "FROM employees\n",
    "GROUP BY department_id\n",
    "LIMIT 5 OFFSET 1"
   ]
  },
  {
   "cell_type": "code",
   "execution_count": 57,
   "id": "1eb8fbe1-079c-4816-b681-8b1098d839e4",
   "metadata": {},
   "outputs": [
    {
     "name": "stdout",
     "output_type": "stream",
     "text": [
      " * sqlite:///my_database.db\n",
      "Done.\n"
     ]
    },
    {
     "data": {
      "text/html": [
       "<table>\n",
       "    <thead>\n",
       "        <tr>\n",
       "            <th>tot_num_bonus</th>\n",
       "        </tr>\n",
       "    </thead>\n",
       "    <tbody>\n",
       "        <tr>\n",
       "            <td>8</td>\n",
       "        </tr>\n",
       "    </tbody>\n",
       "</table>"
      ],
      "text/plain": [
       "[(8,)]"
      ]
     },
     "execution_count": 57,
     "metadata": {},
     "output_type": "execute_result"
    }
   ],
   "source": [
    "%%sql\n",
    "SELECT COUNT(bonus) AS tot_num_bonus\n",
    "FROM employees"
   ]
  },
  {
   "cell_type": "markdown",
   "id": "54287df4-5bca-4097-8c02-08df9a1b796a",
   "metadata": {},
   "source": [
    "Bonus exercise\n",
    "3) Write a query to find employees who received the same bonus as at least one other employee."
   ]
  },
  {
   "cell_type": "code",
   "execution_count": 74,
   "id": "a688db1c-3118-43a4-913d-7bc3d0e21ce8",
   "metadata": {},
   "outputs": [
    {
     "name": "stdout",
     "output_type": "stream",
     "text": [
      " * sqlite:///my_database.db\n",
      "Done.\n"
     ]
    },
    {
     "data": {
      "text/html": [
       "<table>\n",
       "    <thead>\n",
       "        <tr>\n",
       "            <th>full_name</th>\n",
       "            <th>num_same_bonus</th>\n",
       "            <th>bonus</th>\n",
       "        </tr>\n",
       "    </thead>\n",
       "    <tbody>\n",
       "        <tr>\n",
       "            <td>Carol Williams</td>\n",
       "            <td>5</td>\n",
       "            <td>None</td>\n",
       "        </tr>\n",
       "        <tr>\n",
       "            <td>Bob Johnson</td>\n",
       "            <td>2</td>\n",
       "            <td>5000.0</td>\n",
       "        </tr>\n",
       "    </tbody>\n",
       "</table>"
      ],
      "text/plain": [
       "[('Carol Williams', 5, None), ('Bob Johnson', 2, 5000.0)]"
      ]
     },
     "execution_count": 74,
     "metadata": {},
     "output_type": "execute_result"
    }
   ],
   "source": [
    "%%sql\n",
    "SELECT first_name ||' ' || last_name AS full_name, COUNT(id) AS num_same_bonus, bonus\n",
    "FROM employees\n",
    "GROUP BY bonus\n",
    "HAVING COUNT(id) > 1\n"
   ]
  },
  {
   "cell_type": "code",
   "execution_count": 91,
   "id": "a89dd37b-eb0f-43cd-b8da-6ef7826b2daf",
   "metadata": {},
   "outputs": [
    {
     "name": "stdout",
     "output_type": "stream",
     "text": [
      " * sqlite:///my_database.db\n",
      "Done.\n"
     ]
    },
    {
     "data": {
      "text/html": [
       "<table>\n",
       "    <thead>\n",
       "        <tr>\n",
       "            <th>full_name</th>\n",
       "            <th>bonus</th>\n",
       "        </tr>\n",
       "    </thead>\n",
       "    <tbody>\n",
       "        <tr>\n",
       "            <td>Bob Johnson</td>\n",
       "            <td>5000.0</td>\n",
       "        </tr>\n",
       "        <tr>\n",
       "            <td>Carol Williams</td>\n",
       "            <td>None</td>\n",
       "        </tr>\n",
       "        <tr>\n",
       "            <td>Frank Davis</td>\n",
       "            <td>None</td>\n",
       "        </tr>\n",
       "        <tr>\n",
       "            <td>Ivy Moore</td>\n",
       "            <td>5000.0</td>\n",
       "        </tr>\n",
       "        <tr>\n",
       "            <td>Sam White</td>\n",
       "            <td>None</td>\n",
       "        </tr>\n",
       "        <tr>\n",
       "            <td>Jack Taylor</td>\n",
       "            <td>None</td>\n",
       "        </tr>\n",
       "        <tr>\n",
       "            <td>Leo Thomas</td>\n",
       "            <td>None</td>\n",
       "        </tr>\n",
       "    </tbody>\n",
       "</table>"
      ],
      "text/plain": [
       "[('Bob Johnson', 5000.0),\n",
       " ('Carol Williams', None),\n",
       " ('Frank Davis', None),\n",
       " ('Ivy Moore', 5000.0),\n",
       " ('Sam White', None),\n",
       " ('Jack Taylor', None),\n",
       " ('Leo Thomas', None)]"
      ]
     },
     "execution_count": 91,
     "metadata": {},
     "output_type": "execute_result"
    }
   ],
   "source": [
    "%%sql\n",
    "SELECT first_name ||' ' || last_name AS full_name, bonus\n",
    "FROM employees\n",
    "WHERE bonus = 5000 OR bonus IS NULL\n"
   ]
  },
  {
   "cell_type": "code",
   "execution_count": null,
   "id": "7241dda3-0c7c-4ac2-a863-ee89b27e3393",
   "metadata": {},
   "outputs": [],
   "source": []
  },
  {
   "cell_type": "code",
   "execution_count": null,
   "id": "c5389b06-c878-4d02-9fd4-2f7d5c1b144a",
   "metadata": {},
   "outputs": [],
   "source": []
  }
 ],
 "metadata": {
  "kernelspec": {
   "display_name": "Python 3 (ipykernel)",
   "language": "python",
   "name": "python3"
  },
  "language_info": {
   "codemirror_mode": {
    "name": "ipython",
    "version": 3
   },
   "file_extension": ".py",
   "mimetype": "text/x-python",
   "name": "python",
   "nbconvert_exporter": "python",
   "pygments_lexer": "ipython3",
   "version": "3.13.2"
  }
 },
 "nbformat": 4,
 "nbformat_minor": 5
}
