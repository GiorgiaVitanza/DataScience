{
 "cells": [
  {
   "cell_type": "markdown",
   "id": "f7f0bc5e-4f34-4eed-899a-01fdd5b88d40",
   "metadata": {},
   "source": [
    "1) Write a Python function that determines if the distribution of a pandas Series is symmetric, right-skewed or left-skewed."
   ]
  },
  {
   "cell_type": "code",
   "execution_count": 28,
   "id": "3c5e280a-f49b-4fec-9c91-3d4b95bc4eee",
   "metadata": {},
   "outputs": [],
   "source": [
    "import pandas as pd\n",
    "import random as rnd\n",
    "import numpy as np\n",
    "from scipy.stats import *"
   ]
  },
  {
   "cell_type": "code",
   "execution_count": 44,
   "id": "dabb7972-59c5-4c77-88ac-6c4878802918",
   "metadata": {},
   "outputs": [],
   "source": [
    "def skewness(data):\n",
    "    formula = np.mean(data) - np.median(data)\n",
    "    if formula < 0:\n",
    "        print('distribution left-skewed')\n",
    "    elif formula > 0:\n",
    "        print('distribution right-skewed')\n",
    "    else:\n",
    "        print('distribution symmetric')\n",
    "    \n",
    "        "
   ]
  },
  {
   "cell_type": "markdown",
   "id": "543b5d12-eef9-430f-b730-dbd0c5387793",
   "metadata": {},
   "source": [
    "Dati test per provare la funzione e confronto con la funzione già definita su scipy.stats:"
   ]
  },
  {
   "cell_type": "code",
   "execution_count": 50,
   "id": "2620964c-95c9-4510-b8ce-d517112fafff",
   "metadata": {},
   "outputs": [
    {
     "name": "stdout",
     "output_type": "stream",
     "text": [
      "distribution right-skewed\n"
     ]
    },
    {
     "data": {
      "text/plain": [
       "0.06501472601186362"
      ]
     },
     "execution_count": 50,
     "metadata": {},
     "output_type": "execute_result"
    }
   ],
   "source": [
    "rand_ages = [rnd.randint(18,99) for i in range(0,50)]\n",
    "series = pd.Series({'ages': rand_ages})\n",
    "skewness(series['ages']) \n",
    "skew(series['ages']).item()\n",
    "   "
   ]
  },
  {
   "cell_type": "markdown",
   "id": "35d6f07f-0ca0-4c2e-810b-e94c685dd224",
   "metadata": {},
   "source": [
    "2) A disease affects 2% of a population. The population is divided into three age groups:\n",
    "\t•\tYoung (50%): False positive rate 3%, sensitivity 95%.\n",
    "\t•\tMiddle-aged (30%): False positive rate 4%, sensitivity 90%.\n",
    "\t•\tElderly (20%): False positive rate 5%, sensitivity 85%.\n",
    "\n",
    "N.B.\n",
    "False positive rate: probability of a person testing positive when they do not have the disease.\n",
    "Sensitivity/True positive rate: probability of a person testing positive when they have the disease.\n",
    "\n",
    "If a random person from the population tests positive, what is the probability they actually have the disease?"
   ]
  },
  {
   "cell_type": "code",
   "execution_count": 4,
   "id": "70928be2-5659-41f6-a145-82b2540f23f4",
   "metadata": {},
   "outputs": [
    {
     "data": {
      "text/plain": [
       "0.33541055718475066"
      ]
     },
     "execution_count": 4,
     "metadata": {},
     "output_type": "execute_result"
    }
   ],
   "source": [
    "p_disease = 0.02\n",
    "p_not_disease = 1-p_disease\n",
    "\n",
    "p_testing_positive_true = (0.95*0.5 + 0.9*0.3 + 0.85*0.2)*p_disease\n",
    "p_testing_positive_false = (0.03*0.5 + 0.04*0.3 + 0.05*0.2)*p_not_disease\n",
    "\n",
    "p_testing_positive = p_testing_positive_true + p_testing_positive_false\n",
    "p_disease_testing_positive = p_testing_positive_true/p_testing_positive\n",
    "\n",
    "p_disease_testing_positive"
   ]
  },
  {
   "cell_type": "code",
   "execution_count": null,
   "id": "2d884a89-8bba-4fde-ad81-ebcbd43b455a",
   "metadata": {},
   "outputs": [],
   "source": []
  }
 ],
 "metadata": {
  "kernelspec": {
   "display_name": "Python 3 (ipykernel)",
   "language": "python",
   "name": "python3"
  },
  "language_info": {
   "codemirror_mode": {
    "name": "ipython",
    "version": 3
   },
   "file_extension": ".py",
   "mimetype": "text/x-python",
   "name": "python",
   "nbconvert_exporter": "python",
   "pygments_lexer": "ipython3",
   "version": "3.13.2"
  }
 },
 "nbformat": 4,
 "nbformat_minor": 5
}
