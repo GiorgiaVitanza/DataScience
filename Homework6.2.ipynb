{
 "cells": [
  {
   "cell_type": "markdown",
   "id": "f7f0bc5e-4f34-4eed-899a-01fdd5b88d40",
   "metadata": {},
   "source": [
    "1) Write a Python function that determines if the distribution of a pandas Series is symmetric, right-skewed or left-skewed."
   ]
  },
  {
   "cell_type": "code",
   "execution_count": 28,
   "id": "3c5e280a-f49b-4fec-9c91-3d4b95bc4eee",
   "metadata": {},
   "outputs": [],
   "source": [
    "import pandas as pd\n",
    "import random as rnd\n",
    "import numpy as np\n",
    "from scipy.stats import *"
   ]
  },
  {
   "cell_type": "code",
   "execution_count": 44,
   "id": "dabb7972-59c5-4c77-88ac-6c4878802918",
   "metadata": {},
   "outputs": [],
   "source": [
    "def skewness(data):\n",
    "    formula = np.mean(data) - np.median(data)\n",
    "    if formula < 0:\n",
    "        print('distribution left-skewed')\n",
    "    elif formula > 0:\n",
    "        print('distribution right-skewed')\n",
    "    else:\n",
    "        print('distribution symmetric')\n",
    "    \n",
    "        "
   ]
  },
  {
   "cell_type": "markdown",
   "id": "543b5d12-eef9-430f-b730-dbd0c5387793",
   "metadata": {},
   "source": [
    "Dati test per provare la funzione e confronto con la funzione già definita su scipy.stats:"
   ]
  },
  {
   "cell_type": "code",
   "execution_count": 50,
   "id": "2620964c-95c9-4510-b8ce-d517112fafff",
   "metadata": {},
   "outputs": [
    {
     "name": "stdout",
     "output_type": "stream",
     "text": [
      "distribution right-skewed\n"
     ]
    },
    {
     "data": {
      "text/plain": [
       "0.06501472601186362"
      ]
     },
     "execution_count": 50,
     "metadata": {},
     "output_type": "execute_result"
    }
   ],
   "source": [
    "rand_ages = [rnd.randint(18,99) for i in range(0,50)]\n",
    "series = pd.Series({'ages': rand_ages})\n",
    "skewness(series['ages']) \n",
    "skew(series['ages']).item()\n",
    "   "
   ]
  },
  {
   "cell_type": "markdown",
   "id": "35d6f07f-0ca0-4c2e-810b-e94c685dd224",
   "metadata": {},
   "source": [
    "2) A disease affects 2% of a population. The population is divided into three age groups:\n",
    "\t•\tYoung (50%): False positive rate 3%, sensitivity 95%.\n",
    "\t•\tMiddle-aged (30%): False positive rate 4%, sensitivity 90%.\n",
    "\t•\tElderly (20%): False positive rate 5%, sensitivity 85%.\n",
    "\n",
    "N.B.\n",
    "False positive rate: probability of a person testing positive when they do not have the disease.\n",
    "Sensitivity/True positive rate: probability of a person testing positive when they have the disease.\n",
    "\n",
    "If a random person from the population tests positive, what is the probability they actually have the disease?"
   ]
  },
  {
   "cell_type": "code",
   "execution_count": 84,
   "id": "70928be2-5659-41f6-a145-82b2540f23f4",
   "metadata": {},
   "outputs": [
    {
     "data": {
      "text/plain": [
       "[array([15.60631722, 11.20964956, 14.82434843, ..., 17.39949898,\n",
       "         6.39630918, 15.36660698], shape=(5000,)),\n",
       " array([48.51592476, 45.39426395, 43.62866236, ..., 47.28463425,\n",
       "        49.52907304, 49.9135673 ], shape=(3000,)),\n",
       " array([88.9527064 , 89.94462437, 84.64392117, ..., 78.079139  ,\n",
       "        79.42517347, 80.60088649], shape=(2000,))]"
      ]
     },
     "execution_count": 84,
     "metadata": {},
     "output_type": "execute_result"
    },
    {
     "data": {
      "image/png": "[encoded data removed]",
      "text/plain": [
       "<Figure size 640x480 with 1 Axes>"
      ]
     },
     "metadata": {},
     "output_type": "display_data"
    }
   ],
   "source": [
    "from matplotlib import pyplot as plt\n",
    "population1 = [np.random.normal(loc=15, scale=5, size=5000), np.random.normal(loc=45, scale=5, size=3000), np.random.normal(loc=80, scale=5, size=2000)]\n",
    "\n",
    "plt.hist(population1, label='Population', color=['blue','red','yellow'], density=True)\n",
    "plt.title(\"Populations affected\")\n",
    "plt.xlabel(\"Value\")\n",
    "plt.ylabel(\"Density\")\n",
    "plt.legend(['Young','Middle-aged','Elderly'])\n",
    "\n",
    "population1"
   ]
  },
  {
   "cell_type": "code",
   "execution_count": null,
   "id": "2d884a89-8bba-4fde-ad81-ebcbd43b455a",
   "metadata": {},
   "outputs": [],
   "source": []
  }
 ],
 "metadata": {
  "kernelspec": {
   "display_name": "Python 3 (ipykernel)",
   "language": "python",
   "name": "python3"
  },
  "language_info": {
   "codemirror_mode": {
    "name": "ipython",
    "version": 3
   },
   "file_extension": ".py",
   "mimetype": "text/x-python",
   "name": "python",
   "nbconvert_exporter": "python",
   "pygments_lexer": "ipython3",
   "version": "3.13.2"
  }
 },
 "nbformat": 4,
 "nbformat_minor": 5
}
