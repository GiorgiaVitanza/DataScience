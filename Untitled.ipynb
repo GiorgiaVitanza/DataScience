{
 "cells": [
  {
   "cell_type": "code",
   "execution_count": 24,
   "id": "5db4452c-67b0-42a6-a8a6-4bdb04e7e7cc",
   "metadata": {},
   "outputs": [
    {
     "name": "stdout",
     "output_type": "stream",
     "text": [
      "Requirement already satisfied: pandas in c:\\users\\316970\\progettivscode\\datascience\\.venv\\lib\\site-packages (2.2.3)\n",
      "Requirement already satisfied: numpy in c:\\users\\316970\\progettivscode\\datascience\\.venv\\lib\\site-packages (2.2.3)\n",
      "Requirement already satisfied: scipy in c:\\users\\316970\\progettivscode\\datascience\\.venv\\lib\\site-packages (1.15.2)\n",
      "Requirement already satisfied: matplotlib in c:\\users\\316970\\progettivscode\\datascience\\.venv\\lib\\site-packages (3.10.0)\n",
      "Requirement already satisfied: seaborn in c:\\users\\316970\\progettivscode\\datascience\\.venv\\lib\\site-packages (0.13.2)\n",
      "Requirement already satisfied: requests in c:\\users\\316970\\progettivscode\\datascience\\.venv\\lib\\site-packages (2.32.3)\n",
      "Collecting tqdm\n",
      "  Downloading tqdm-4.67.1-py3-none-any.whl.metadata (57 kB)\n",
      "Collecting pydantic\n",
      "  Using cached pydantic-2.10.6-py3-none-any.whl.metadata (30 kB)\n",
      "Requirement already satisfied: jinja2 in c:\\users\\316970\\progettivscode\\datascience\\.venv\\lib\\site-packages (3.1.5)\n",
      "Requirement already satisfied: python-dateutil>=2.8.2 in c:\\users\\316970\\progettivscode\\datascience\\.venv\\lib\\site-packages (from pandas) (2.9.0.post0)\n",
      "Requirement already satisfied: pytz>=2020.1 in c:\\users\\316970\\progettivscode\\datascience\\.venv\\lib\\site-packages (from pandas) (2025.1)\n",
      "Requirement already satisfied: tzdata>=2022.7 in c:\\users\\316970\\progettivscode\\datascience\\.venv\\lib\\site-packages (from pandas) (2025.1)\n",
      "Requirement already satisfied: contourpy>=1.0.1 in c:\\users\\316970\\progettivscode\\datascience\\.venv\\lib\\site-packages (from matplotlib) (1.3.1)\n",
      "Requirement already satisfied: cycler>=0.10 in c:\\users\\316970\\progettivscode\\datascience\\.venv\\lib\\site-packages (from matplotlib) (0.12.1)\n",
      "Requirement already satisfied: fonttools>=4.22.0 in c:\\users\\316970\\progettivscode\\datascience\\.venv\\lib\\site-packages (from matplotlib) (4.56.0)\n",
      "Requirement already satisfied: kiwisolver>=1.3.1 in c:\\users\\316970\\progettivscode\\datascience\\.venv\\lib\\site-packages (from matplotlib) (1.4.8)\n",
      "Requirement already satisfied: packaging>=20.0 in c:\\users\\316970\\progettivscode\\datascience\\.venv\\lib\\site-packages (from matplotlib) (24.2)\n",
      "Requirement already satisfied: pillow>=8 in c:\\users\\316970\\progettivscode\\datascience\\.venv\\lib\\site-packages (from matplotlib) (11.1.0)\n",
      "Requirement already satisfied: pyparsing>=2.3.1 in c:\\users\\316970\\progettivscode\\datascience\\.venv\\lib\\site-packages (from matplotlib) (3.2.1)\n",
      "Requirement already satisfied: charset-normalizer<4,>=2 in c:\\users\\316970\\progettivscode\\datascience\\.venv\\lib\\site-packages (from requests) (3.4.1)\n",
      "Requirement already satisfied: idna<4,>=2.5 in c:\\users\\316970\\progettivscode\\datascience\\.venv\\lib\\site-packages (from requests) (3.10)\n",
      "Requirement already satisfied: urllib3<3,>=1.21.1 in c:\\users\\316970\\progettivscode\\datascience\\.venv\\lib\\site-packages (from requests) (2.3.0)\n",
      "Requirement already satisfied: certifi>=2017.4.17 in c:\\users\\316970\\progettivscode\\datascience\\.venv\\lib\\site-packages (from requests) (2025.1.31)\n",
      "Requirement already satisfied: colorama in c:\\users\\316970\\progettivscode\\datascience\\.venv\\lib\\site-packages (from tqdm) (0.4.6)\n",
      "Collecting annotated-types>=0.6.0 (from pydantic)\n",
      "  Downloading annotated_types-0.7.0-py3-none-any.whl.metadata (15 kB)\n",
      "Collecting pydantic-core==2.27.2 (from pydantic)\n",
      "  Downloading pydantic_core-2.27.2-cp313-cp313-win_amd64.whl.metadata (6.7 kB)\n",
      "Requirement already satisfied: typing-extensions>=4.12.2 in c:\\users\\316970\\progettivscode\\datascience\\.venv\\lib\\site-packages (from pydantic) (4.12.2)\n",
      "Requirement already satisfied: MarkupSafe>=2.0 in c:\\users\\316970\\progettivscode\\datascience\\.venv\\lib\\site-packages (from jinja2) (3.0.2)\n",
      "Requirement already satisfied: six>=1.5 in c:\\users\\316970\\progettivscode\\datascience\\.venv\\lib\\site-packages (from python-dateutil>=2.8.2->pandas) (1.17.0)\n",
      "Downloading tqdm-4.67.1-py3-none-any.whl (78 kB)\n",
      "Downloading pydantic-2.10.6-py3-none-any.whl (431 kB)\n",
      "Downloading pydantic_core-2.27.2-cp313-cp313-win_amd64.whl (2.0 MB)\n",
      "   ---------------------------------------- 0.0/2.0 MB ? eta -:--:--\n",
      "   ---------------------------------------- 0.0/2.0 MB ? eta -:--:--\n",
      "   ----- ---------------------------------- 0.3/2.0 MB ? eta -:--:--\n",
      "   --------------- ------------------------ 0.8/2.0 MB 1.8 MB/s eta 0:00:01\n",
      "   --------------------- ------------------ 1.0/2.0 MB 1.7 MB/s eta 0:00:01\n",
      "   -------------------------- ------------- 1.3/2.0 MB 1.5 MB/s eta 0:00:01\n",
      "   ------------------------------- -------- 1.6/2.0 MB 1.7 MB/s eta 0:00:01\n",
      "   ---------------------------------------- 2.0/2.0 MB 1.6 MB/s eta 0:00:00\n",
      "Downloading annotated_types-0.7.0-py3-none-any.whl (13 kB)\n",
      "Installing collected packages: tqdm, pydantic-core, annotated-types, pydantic\n",
      "Successfully installed annotated-types-0.7.0 pydantic-2.10.6 pydantic-core-2.27.2 tqdm-4.67.1\n"
     ]
    },
    {
     "name": "stderr",
     "output_type": "stream",
     "text": [
      "ERROR: Could not find a version that satisfies the requirement ydata-profiling (from versions: none)\n",
      "ERROR: No matching distribution found for ydata-profiling\n"
     ]
    }
   ],
   "source": [
    "!pip install pandas numpy scipy matplotlib seaborn requests tqdm pydantic jinja2\n",
    "!pip install ydata-profiling\n"
   ]
  },
  {
   "cell_type": "code",
   "execution_count": 17,
   "id": "a2598ae3-48da-4e3a-8c14-ad3c4fdfab79",
   "metadata": {},
   "outputs": [
    {
     "ename": "ModuleNotFoundError",
     "evalue": "No module named 'ydata_profiling'",
     "output_type": "error",
     "traceback": [
      "\u001b[1;31m-------------------------------------------------------\u001b[0m",
      "\u001b[1;31mModuleNotFoundError\u001b[0m   Traceback (most recent call last)",
      "Cell \u001b[1;32mIn[17], line 2\u001b[0m\n\u001b[0;32m      1\u001b[0m \u001b[38;5;28;01mimport\u001b[39;00m\u001b[38;5;250m \u001b[39m\u001b[38;5;21;01mpandas\u001b[39;00m\u001b[38;5;250m \u001b[39m\u001b[38;5;28;01mas\u001b[39;00m\u001b[38;5;250m \u001b[39m\u001b[38;5;21;01mpd\u001b[39;00m\n\u001b[1;32m----> 2\u001b[0m \u001b[38;5;28;01mfrom\u001b[39;00m\u001b[38;5;250m \u001b[39m\u001b[38;5;21;01mydata_profiling\u001b[39;00m\u001b[38;5;250m \u001b[39m\u001b[38;5;28;01mimport\u001b[39;00m ProfileReport\n",
      "\u001b[1;31mModuleNotFoundError\u001b[0m: No module named 'ydata_profiling'"
     ]
    }
   ],
   "source": [
    "import pandas as pd\n",
    "from ydata_profiling import ProfileReport"
   ]
  },
  {
   "cell_type": "code",
   "execution_count": null,
   "id": "90f34f54-1e0e-43a1-81a4-eea2ba9b63b5",
   "metadata": {},
   "outputs": [],
   "source": [
    "with open('diabets_prediction_dataset.csv') as fd:\n",
    "    data = pd.read_csv(fd)"
   ]
  }
 ],
 "metadata": {
  "kernelspec": {
   "display_name": "Python 3 (ipykernel)",
   "language": "python",
   "name": "python3"
  },
  "language_info": {
   "codemirror_mode": {
    "name": "ipython",
    "version": 3
   },
   "file_extension": ".py",
   "mimetype": "text/x-python",
   "name": "python",
   "nbconvert_exporter": "python",
   "pygments_lexer": "ipython3",
   "version": "3.13.2"
  }
 },
 "nbformat": 4,
 "nbformat_minor": 5
}
